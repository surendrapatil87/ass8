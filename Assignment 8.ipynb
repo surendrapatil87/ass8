{
 "cells": [
  {
   "cell_type": "markdown",
   "id": "56041dc9",
   "metadata": {},
   "source": [
    "# 1. In Python, what is the difference between a built-in function and a user-defined function? Provide an example of each."
   ]
  },
  {
   "cell_type": "code",
   "execution_count": 4,
   "id": "a30a8cf9",
   "metadata": {},
   "outputs": [
    {
     "name": "stdout",
     "output_type": "stream",
     "text": [
      "Inbuilt Function :  17\n"
     ]
    }
   ],
   "source": [
    "#User defined function\n",
    "def add(a,b):\n",
    "    result = a+b\n",
    "    return result\n",
    "\n",
    "#In-built functions\n",
    "print('Inbuilt Function : ',add(11,6))"
   ]
  },
  {
   "cell_type": "markdown",
   "id": "10645dcc",
   "metadata": {},
   "source": [
    "# 2. How can you pass arguments to a function in Python? Explain the difference between positional arguments and keyword arguments."
   ]
  },
  {
   "cell_type": "code",
   "execution_count": 5,
   "id": "a5f8d7df",
   "metadata": {},
   "outputs": [
    {
     "name": "stdout",
     "output_type": "stream",
     "text": [
      "Positional Arguments Parameter ---\n",
      "Value of First Parmeter :  1\n",
      "Value of Second Parmeter :  2\n",
      "Value of Third Parmeter :  3\n",
      "Result is :  6\n",
      "-----------------------\n",
      "Keyword Arguments parameter ---\n",
      "Value of First Parmeter :  10\n",
      "Value of Second Parmeter :  5\n",
      "Value of Third Parmeter :  3\n",
      "Result is :  150\n",
      "-----------------------\n"
     ]
    },
    {
     "data": {
      "text/plain": [
       "150"
      ]
     },
     "execution_count": 5,
     "metadata": {},
     "output_type": "execute_result"
    }
   ],
   "source": [
    "def multiplication (a, b, c):\n",
    "    print('Value of First Parmeter : ', a)\n",
    "    print('Value of Second Parmeter : ', b)\n",
    "    print('Value of Third Parmeter : ', c)\n",
    "    \n",
    "    result = a*b*c\n",
    "    print('Result is : ', result)\n",
    "    print('-----------------------')\n",
    "    return result\n",
    "print('Positional Arguments Parameter ---')\n",
    "# Here values are passed to function as per sequence only\n",
    "multiplication(1,2,3)\n",
    "print('Keyword Arguments parameter ---')\n",
    "#Here default value passed to parameter, No sequence required if value assigned parameter\n",
    "multiplication(c=3, b=5, a=10)"
   ]
  },
  {
   "cell_type": "markdown",
   "id": "41be01fd",
   "metadata": {},
   "source": [
    "# 3. What is the purpose of the return statement in a function? Can a function have multiple return statements? Explain with an example."
   ]
  },
  {
   "cell_type": "code",
   "execution_count": 7,
   "id": "f123bc14",
   "metadata": {},
   "outputs": [
    {
     "name": "stdout",
     "output_type": "stream",
     "text": [
      "First retrun value : surendra \n",
      "Second retrun value : patil\n",
      "Third retrun value : surendra patil\n"
     ]
    }
   ],
   "source": [
    "# Return statment used to provide output value from the function which can be assigned to varaible e.g. Current program taking input and returning main string along with parameters\n",
    "\n",
    "def joinString(a, b):\n",
    "    mainStr = a + b\n",
    "    \n",
    "    return a,b,mainStr\n",
    "\n",
    "a,b,c = joinString('surendra ', 'patil')\n",
    "\n",
    "print('First retrun value :', a)\n",
    "print('Second retrun value :', b)\n",
    "print('Third retrun value :', c)"
   ]
  },
  {
   "cell_type": "markdown",
   "id": "3a24fad4",
   "metadata": {},
   "source": [
    "# 4. What are lambda functions in Python? How are they different from regular functions? Provide an example where a lambda function can be useful."
   ]
  },
  {
   "cell_type": "code",
   "execution_count": 10,
   "id": "4689762e",
   "metadata": {},
   "outputs": [
    {
     "name": "stdout",
     "output_type": "stream",
     "text": [
      "0.6\n"
     ]
    }
   ],
   "source": [
    "a = lambda x,y : x/y\n",
    "\n",
    "result = a(3,5)\n",
    "\n",
    "print (result)"
   ]
  },
  {
   "cell_type": "markdown",
   "id": "5009be8e",
   "metadata": {},
   "source": [
    "# 5. How does the concept of \"scope\" apply to functions in Python? Explain the difference between local scope and global scope."
   ]
  },
  {
   "cell_type": "code",
   "execution_count": 9,
   "id": "466a7c4b",
   "metadata": {},
   "outputs": [
    {
     "name": "stdout",
     "output_type": "stream",
     "text": [
      "Local Scope varialbe :: Inside function 6\n",
      "Global Scope varialbe :: Inside Function  5\n"
     ]
    },
    {
     "ename": "NameError",
     "evalue": "name 'localVar' is not defined",
     "output_type": "error",
     "traceback": [
      "\u001b[1;31m---------------------------------------------------------------------------\u001b[0m",
      "\u001b[1;31mNameError\u001b[0m                                 Traceback (most recent call last)",
      "Cell \u001b[1;32mIn[9], line 14\u001b[0m\n\u001b[0;32m     10\u001b[0m     \u001b[38;5;28mprint\u001b[39m(\u001b[38;5;124m'\u001b[39m\u001b[38;5;124mGlobal Scope varialbe :: Inside Function \u001b[39m\u001b[38;5;124m'\u001b[39m, globalVar)\n\u001b[0;32m     13\u001b[0m localScope()\n\u001b[1;32m---> 14\u001b[0m \u001b[38;5;28mprint\u001b[39m(\u001b[38;5;124m'\u001b[39m\u001b[38;5;124mLocal Scope varialbe :: Outside function\u001b[39m\u001b[38;5;124m'\u001b[39m, \u001b[43mlocalVar\u001b[49m)\n\u001b[0;32m     15\u001b[0m \u001b[38;5;28mprint\u001b[39m(\u001b[38;5;124m'\u001b[39m\u001b[38;5;124mGlobal Scope varialbe :: Outside Function \u001b[39m\u001b[38;5;124m'\u001b[39m, globalVar)\n",
      "\u001b[1;31mNameError\u001b[0m: name 'localVar' is not defined"
     ]
    }
   ],
   "source": [
    "#Global Scope : it has visibility through out program container. e.g. Variable decleared outside a function has visibility to all function\n",
    "#Local scope : It has visibility till boundry of function or bonded limit only. e.g. Variable decleared inside the function has visibility till function it self\n",
    "\n",
    "\n",
    "globalVar = 5\n",
    "\n",
    "def localScope():\n",
    "    localVar = 6\n",
    "    print('Local Scope varialbe :: Inside function', localVar)\n",
    "    print('Global Scope varialbe :: Inside Function ', globalVar)\n",
    "    \n",
    "\n",
    "localScope()\n",
    "print('Local Scope varialbe :: Outside function', localVar)\n",
    "print('Global Scope varialbe :: Outside Function ', globalVar)"
   ]
  },
  {
   "cell_type": "markdown",
   "id": "babb5a91",
   "metadata": {},
   "source": [
    "# 6. How can you use the \"return\" statement in a Python function to return multiple values?"
   ]
  },
  {
   "cell_type": "code",
   "execution_count": 11,
   "id": "b7a1ba00",
   "metadata": {},
   "outputs": [
    {
     "name": "stdout",
     "output_type": "stream",
     "text": [
      "First retrun value : Surendra \n",
      "Second retrun value : Patil\n",
      "Third retrun value : Surendra Patil\n"
     ]
    }
   ],
   "source": [
    "# Return statment used to provide output value from the function which can be assigned to varaible e.g. Current program taking input and returning main string along with parameters\n",
    "\n",
    "def joinString(a, b):\n",
    "    mainStr = a + b\n",
    "    \n",
    "    return a,b,mainStr\n",
    "\n",
    "a,b,c = joinString('Surendra ', 'Patil')\n",
    "\n",
    "print('First retrun value :', a)\n",
    "print('Second retrun value :', b)\n",
    "print('Third retrun value :', c)"
   ]
  },
  {
   "cell_type": "markdown",
   "id": "e94effa7",
   "metadata": {},
   "source": [
    "# 7. What is the difference between the \"pass by value\" and \"pass by reference\" concepts when it comes to function arguments in Python?"
   ]
  },
  {
   "cell_type": "code",
   "execution_count": 12,
   "id": "2f4cbb73",
   "metadata": {},
   "outputs": [
    {
     "name": "stdout",
     "output_type": "stream",
     "text": [
      "Pass by reference Parameter ---\n",
      "Value of First Parmeter :  1\n",
      "Value of Second Parmeter :  2\n",
      "Value of Third Parmeter :  3\n",
      "Result is :  6\n",
      "-----------------------\n",
      "Pass by value parameter ---\n",
      "Value of First Parmeter :  10\n",
      "Value of Second Parmeter :  5\n",
      "Value of Third Parmeter :  3\n",
      "Result is :  150\n",
      "-----------------------\n"
     ]
    },
    {
     "data": {
      "text/plain": [
       "150"
      ]
     },
     "execution_count": 12,
     "metadata": {},
     "output_type": "execute_result"
    }
   ],
   "source": [
    "def multiplication (a, b, c):\n",
    "    print('Value of First Parmeter : ', a)\n",
    "    print('Value of Second Parmeter : ', b)\n",
    "    print('Value of Third Parmeter : ', c)\n",
    "    \n",
    "    result = a*b*c\n",
    "    print('Result is : ', result)\n",
    "    print('-----------------------')\n",
    "    return result\n",
    "print('Pass by reference Parameter ---')\n",
    "# Here values are passed to function as per sequence only\n",
    "multiplication(1,2,3)\n",
    "print('Pass by value parameter ---')\n",
    "#Here default value passed to parameter, No sequence required if value assigned parameter\n",
    "multiplication(c=3, b=5, a=10)"
   ]
  },
  {
   "cell_type": "markdown",
   "id": "4b5a9f1c",
   "metadata": {},
   "source": [
    "# 8. Create a function that can intake integer or decimal value and do following operations:\n",
    "# a. Logarithmic function (log x)\n",
    "# b. Exponential function (exp(x))\n",
    "# c. Power function with base 2 (2x)\n",
    "# d. Square root"
   ]
  },
  {
   "cell_type": "code",
   "execution_count": 14,
   "id": "91b4cb78",
   "metadata": {},
   "outputs": [
    {
     "name": "stdout",
     "output_type": "stream",
     "text": [
      "Logirithmic value of  5  is  1.6094379124341003\n",
      "Exponential value of  5  is  148.4131591025766\n",
      "Power of 2 value  5  is  32\n",
      "Square  root of  5 is 2.23606797749979\n"
     ]
    }
   ],
   "source": [
    "import math\n",
    "\n",
    "def perfromMathOpe(x):\n",
    "    typeDtls = type(x)\n",
    "    if typeDtls == int or typeDtls == float:\n",
    "        logVal = math.log(x)\n",
    "        expVal = math.exp(x)\n",
    "        powerVal = 2 ** x\n",
    "        sqrVal = math.sqrt(x)\n",
    "        return logVal,expVal,powerVal,sqrVal\n",
    "    else:\n",
    "        print('Enter correct value')\n",
    "\n",
    "q = 5\n",
    "a,b,c,d = perfromMathOpe(q)\n",
    "\n",
    "print('Logirithmic value of ', q, ' is ', a )\n",
    "print('Exponential value of ', q, ' is ', b )\n",
    "print('Power of 2 value ', q, ' is ', c)\n",
    "print('Square  root of ', q, 'is' , d)"
   ]
  },
  {
   "cell_type": "markdown",
   "id": "6cd6aebb",
   "metadata": {},
   "source": [
    "# 9. Create a function that takes a full name as an argument and returns first name and last name."
   ]
  },
  {
   "cell_type": "code",
   "execution_count": 15,
   "id": "7411a3ed",
   "metadata": {},
   "outputs": [
    {
     "name": "stdout",
     "output_type": "stream",
     "text": [
      "Index  0 Surendra\n",
      "Index  1 patil\n"
     ]
    }
   ],
   "source": [
    "def spiltName(nm):\n",
    "    if type(nm) == str:\n",
    "        ls = nm.split()\n",
    "        for i in range(len(ls)):\n",
    "            print('Index ', i , ls[i])\n",
    "\n",
    "spiltName('Surendra patil')"
   ]
  },
  {
   "cell_type": "code",
   "execution_count": null,
   "id": "4fc3dd2d",
   "metadata": {},
   "outputs": [],
   "source": []
  }
 ],
 "metadata": {
  "kernelspec": {
   "display_name": "Python 3 (ipykernel)",
   "language": "python",
   "name": "python3"
  },
  "language_info": {
   "codemirror_mode": {
    "name": "ipython",
    "version": 3
   },
   "file_extension": ".py",
   "mimetype": "text/x-python",
   "name": "python",
   "nbconvert_exporter": "python",
   "pygments_lexer": "ipython3",
   "version": "3.10.9"
  }
 },
 "nbformat": 4,
 "nbformat_minor": 5
}
